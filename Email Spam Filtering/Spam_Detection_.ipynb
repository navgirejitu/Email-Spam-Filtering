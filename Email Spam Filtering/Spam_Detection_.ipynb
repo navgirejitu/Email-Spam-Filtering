{
 "cells": [
  {
   "cell_type": "code",
   "execution_count": 1,
   "metadata": {},
   "outputs": [],
   "source": [
    "#Import libraries\n",
    "import numpy as np \n",
    "import pandas as pd \n",
    "import nltk\n",
    "from nltk.corpus import stopwords\n",
    "import string\n",
    "import os"
   ]
  },
  {
   "cell_type": "code",
   "execution_count": 2,
   "metadata": {},
   "outputs": [],
   "source": [
    "#read csv file & assign to a dataframe from https://www.kaggle.com/karthickveerakumar/spam-filter/version/1#emails.csv\n",
    "df = pd.read_csv(\"emails.csv\")"
   ]
  },
  {
   "cell_type": "code",
   "execution_count": 3,
   "metadata": {},
   "outputs": [
    {
     "data": {
      "text/html": [
       "<div>\n",
       "<style scoped>\n",
       "    .dataframe tbody tr th:only-of-type {\n",
       "        vertical-align: middle;\n",
       "    }\n",
       "\n",
       "    .dataframe tbody tr th {\n",
       "        vertical-align: top;\n",
       "    }\n",
       "\n",
       "    .dataframe thead th {\n",
       "        text-align: right;\n",
       "    }\n",
       "</style>\n",
       "<table border=\"1\" class=\"dataframe\">\n",
       "  <thead>\n",
       "    <tr style=\"text-align: right;\">\n",
       "      <th></th>\n",
       "      <th>text</th>\n",
       "      <th>spam</th>\n",
       "    </tr>\n",
       "  </thead>\n",
       "  <tbody>\n",
       "    <tr>\n",
       "      <th>0</th>\n",
       "      <td>Subject: naturally irresistible your corporate...</td>\n",
       "      <td>1</td>\n",
       "    </tr>\n",
       "    <tr>\n",
       "      <th>1</th>\n",
       "      <td>Subject: the stock trading gunslinger  fanny i...</td>\n",
       "      <td>1</td>\n",
       "    </tr>\n",
       "    <tr>\n",
       "      <th>2</th>\n",
       "      <td>Subject: unbelievable new homes made easy  im ...</td>\n",
       "      <td>1</td>\n",
       "    </tr>\n",
       "    <tr>\n",
       "      <th>3</th>\n",
       "      <td>Subject: 4 color printing special  request add...</td>\n",
       "      <td>1</td>\n",
       "    </tr>\n",
       "    <tr>\n",
       "      <th>4</th>\n",
       "      <td>Subject: do not have money , get software cds ...</td>\n",
       "      <td>1</td>\n",
       "    </tr>\n",
       "    <tr>\n",
       "      <th>5</th>\n",
       "      <td>Subject: great nnews  hello , welcome to medzo...</td>\n",
       "      <td>1</td>\n",
       "    </tr>\n",
       "    <tr>\n",
       "      <th>6</th>\n",
       "      <td>Subject: here ' s a hot play in motion  homela...</td>\n",
       "      <td>1</td>\n",
       "    </tr>\n",
       "    <tr>\n",
       "      <th>7</th>\n",
       "      <td>Subject: save your money buy getting this thin...</td>\n",
       "      <td>1</td>\n",
       "    </tr>\n",
       "    <tr>\n",
       "      <th>8</th>\n",
       "      <td>Subject: undeliverable : home based business f...</td>\n",
       "      <td>1</td>\n",
       "    </tr>\n",
       "    <tr>\n",
       "      <th>9</th>\n",
       "      <td>Subject: save your money buy getting this thin...</td>\n",
       "      <td>1</td>\n",
       "    </tr>\n",
       "  </tbody>\n",
       "</table>\n",
       "</div>"
      ],
      "text/plain": [
       "                                                text  spam\n",
       "0  Subject: naturally irresistible your corporate...     1\n",
       "1  Subject: the stock trading gunslinger  fanny i...     1\n",
       "2  Subject: unbelievable new homes made easy  im ...     1\n",
       "3  Subject: 4 color printing special  request add...     1\n",
       "4  Subject: do not have money , get software cds ...     1\n",
       "5  Subject: great nnews  hello , welcome to medzo...     1\n",
       "6  Subject: here ' s a hot play in motion  homela...     1\n",
       "7  Subject: save your money buy getting this thin...     1\n",
       "8  Subject: undeliverable : home based business f...     1\n",
       "9  Subject: save your money buy getting this thin...     1"
      ]
     },
     "execution_count": 3,
     "metadata": {},
     "output_type": "execute_result"
    }
   ],
   "source": [
    "#show the first 5 elements of the csv\n",
    "df.head(10)"
   ]
  },
  {
   "cell_type": "code",
   "execution_count": 4,
   "metadata": {},
   "outputs": [
    {
     "data": {
      "text/plain": [
       "(5728, 2)"
      ]
     },
     "execution_count": 4,
     "metadata": {},
     "output_type": "execute_result"
    }
   ],
   "source": [
    "#print number of rows and columns\n",
    "df.shape"
   ]
  },
  {
   "cell_type": "code",
   "execution_count": 5,
   "metadata": {},
   "outputs": [
    {
     "name": "stdout",
     "output_type": "stream",
     "text": [
      "<class 'pandas.core.frame.DataFrame'>\n",
      "RangeIndex: 5728 entries, 0 to 5727\n",
      "Data columns (total 2 columns):\n",
      " #   Column  Non-Null Count  Dtype \n",
      "---  ------  --------------  ----- \n",
      " 0   text    5728 non-null   object\n",
      " 1   spam    5728 non-null   int64 \n",
      "dtypes: int64(1), object(1)\n",
      "memory usage: 89.6+ KB\n"
     ]
    }
   ],
   "source": [
    "df.info()"
   ]
  },
  {
   "cell_type": "code",
   "execution_count": 6,
   "metadata": {},
   "outputs": [
    {
     "name": "stdout",
     "output_type": "stream",
     "text": [
      "Subject: las vegas high rise boom  las vegas is fast becoming a major metropolitan city ! 60 +  new high rise towers are expected to be built on and around the las vegas strip  within the next 3 - 4 years , that ' s 30 , 000 + condominiums !  this boom has just begun ! buy first . . . early phase ,  pre - construction pricing is now available on las vegas high rises including  trump , cosmopolitan , mgm , turnberry , icon , sky , among others .  join the interest list :  http : / / www . verticallv . com  message has been sent to you by realty one highrise . learn more at www . verticallv . comif you  wish to be excluded from future mailings , please reply with the word remove in  the subject line . \n"
     ]
    }
   ],
   "source": [
    "#show element n\n",
    "print(df.iloc[10][0])"
   ]
  },
  {
   "cell_type": "code",
   "execution_count": 7,
   "metadata": {},
   "outputs": [
    {
     "data": {
      "text/plain": [
       "text    0\n",
       "spam    0\n",
       "dtype: int64"
      ]
     },
     "execution_count": 7,
     "metadata": {},
     "output_type": "execute_result"
    }
   ],
   "source": [
    "df.isnull().sum() #shows how many rows are null, this is good practice if we want to take care of null value in data prep"
   ]
  },
  {
   "cell_type": "code",
   "execution_count": 8,
   "metadata": {},
   "outputs": [
    {
     "data": {
      "image/png": "[encoded data removed]",
      "text/plain": [
       "<Figure size 864x432 with 1 Axes>"
      ]
     },
     "metadata": {
      "needs_background": "light"
     },
     "output_type": "display_data"
    }
   ],
   "source": [
    "import matplotlib.pyplot as plt\n",
    "import seaborn as sns\n",
    "label_counts = df.spam.value_counts()\n",
    "plt.figure(figsize = (12,6))\n",
    "sns.barplot(label_counts.index, label_counts.values, alpha = 0.9)\n",
    "\n",
    "plt.xticks(rotation = 'vertical')\n",
    "plt.xlabel('Spam', fontsize =12)\n",
    "plt.ylabel('Counts', fontsize = 12)\n",
    "plt.show()"
   ]
  },
  {
   "cell_type": "code",
   "execution_count": 9,
   "metadata": {},
   "outputs": [],
   "source": [
    "#In Python3, string.punctuation is a pre-initialized string used as string constant, this contain all the punctuation\n",
    "punct= string.punctuation"
   ]
  },
  {
   "cell_type": "code",
   "execution_count": 10,
   "metadata": {},
   "outputs": [
    {
     "data": {
      "text/plain": [
       "'!\"#$%&\\'()*+,-./:;<=>?@[\\\\]^_`{|}~'"
      ]
     },
     "execution_count": 10,
     "metadata": {},
     "output_type": "execute_result"
    }
   ],
   "source": [
    "punct"
   ]
  },
  {
   "cell_type": "code",
   "execution_count": 11,
   "metadata": {},
   "outputs": [
    {
     "name": "stderr",
     "output_type": "stream",
     "text": [
      "[nltk_data] Downloading package stopwords to\n",
      "[nltk_data]     C:\\Users\\Dell\\AppData\\Roaming\\nltk_data...\n",
      "[nltk_data]   Package stopwords is already up-to-date!\n"
     ]
    },
    {
     "data": {
      "text/plain": [
       "True"
      ]
     },
     "execution_count": 11,
     "metadata": {},
     "output_type": "execute_result"
    }
   ],
   "source": [
    "nltk.download('stopwords')\n",
    "#this package from natural language toolkit contains all the stopword in the major languages"
   ]
  },
  {
   "cell_type": "code",
   "execution_count": 12,
   "metadata": {},
   "outputs": [],
   "source": [
    "stop_words = set(stopwords.words(\"english\"))"
   ]
  },
  {
   "cell_type": "code",
   "execution_count": 13,
   "metadata": {},
   "outputs": [
    {
     "data": {
      "text/plain": [
       "{'a',\n",
       " 'about',\n",
       " 'above',\n",
       " 'after',\n",
       " 'again',\n",
       " 'against',\n",
       " 'ain',\n",
       " 'all',\n",
       " 'am',\n",
       " 'an',\n",
       " 'and',\n",
       " 'any',\n",
       " 'are',\n",
       " 'aren',\n",
       " \"aren't\",\n",
       " 'as',\n",
       " 'at',\n",
       " 'be',\n",
       " 'because',\n",
       " 'been',\n",
       " 'before',\n",
       " 'being',\n",
       " 'below',\n",
       " 'between',\n",
       " 'both',\n",
       " 'but',\n",
       " 'by',\n",
       " 'can',\n",
       " 'couldn',\n",
       " \"couldn't\",\n",
       " 'd',\n",
       " 'did',\n",
       " 'didn',\n",
       " \"didn't\",\n",
       " 'do',\n",
       " 'does',\n",
       " 'doesn',\n",
       " \"doesn't\",\n",
       " 'doing',\n",
       " 'don',\n",
       " \"don't\",\n",
       " 'down',\n",
       " 'during',\n",
       " 'each',\n",
       " 'few',\n",
       " 'for',\n",
       " 'from',\n",
       " 'further',\n",
       " 'had',\n",
       " 'hadn',\n",
       " \"hadn't\",\n",
       " 'has',\n",
       " 'hasn',\n",
       " \"hasn't\",\n",
       " 'have',\n",
       " 'haven',\n",
       " \"haven't\",\n",
       " 'having',\n",
       " 'he',\n",
       " 'her',\n",
       " 'here',\n",
       " 'hers',\n",
       " 'herself',\n",
       " 'him',\n",
       " 'himself',\n",
       " 'his',\n",
       " 'how',\n",
       " 'i',\n",
       " 'if',\n",
       " 'in',\n",
       " 'into',\n",
       " 'is',\n",
       " 'isn',\n",
       " \"isn't\",\n",
       " 'it',\n",
       " \"it's\",\n",
       " 'its',\n",
       " 'itself',\n",
       " 'just',\n",
       " 'll',\n",
       " 'm',\n",
       " 'ma',\n",
       " 'me',\n",
       " 'mightn',\n",
       " \"mightn't\",\n",
       " 'more',\n",
       " 'most',\n",
       " 'mustn',\n",
       " \"mustn't\",\n",
       " 'my',\n",
       " 'myself',\n",
       " 'needn',\n",
       " \"needn't\",\n",
       " 'no',\n",
       " 'nor',\n",
       " 'not',\n",
       " 'now',\n",
       " 'o',\n",
       " 'of',\n",
       " 'off',\n",
       " 'on',\n",
       " 'once',\n",
       " 'only',\n",
       " 'or',\n",
       " 'other',\n",
       " 'our',\n",
       " 'ours',\n",
       " 'ourselves',\n",
       " 'out',\n",
       " 'over',\n",
       " 'own',\n",
       " 're',\n",
       " 's',\n",
       " 'same',\n",
       " 'shan',\n",
       " \"shan't\",\n",
       " 'she',\n",
       " \"she's\",\n",
       " 'should',\n",
       " \"should've\",\n",
       " 'shouldn',\n",
       " \"shouldn't\",\n",
       " 'so',\n",
       " 'some',\n",
       " 'such',\n",
       " 't',\n",
       " 'than',\n",
       " 'that',\n",
       " \"that'll\",\n",
       " 'the',\n",
       " 'their',\n",
       " 'theirs',\n",
       " 'them',\n",
       " 'themselves',\n",
       " 'then',\n",
       " 'there',\n",
       " 'these',\n",
       " 'they',\n",
       " 'this',\n",
       " 'those',\n",
       " 'through',\n",
       " 'to',\n",
       " 'too',\n",
       " 'under',\n",
       " 'until',\n",
       " 'up',\n",
       " 've',\n",
       " 'very',\n",
       " 'was',\n",
       " 'wasn',\n",
       " \"wasn't\",\n",
       " 'we',\n",
       " 'were',\n",
       " 'weren',\n",
       " \"weren't\",\n",
       " 'what',\n",
       " 'when',\n",
       " 'where',\n",
       " 'which',\n",
       " 'while',\n",
       " 'who',\n",
       " 'whom',\n",
       " 'why',\n",
       " 'will',\n",
       " 'with',\n",
       " 'won',\n",
       " \"won't\",\n",
       " 'wouldn',\n",
       " \"wouldn't\",\n",
       " 'y',\n",
       " 'you',\n",
       " \"you'd\",\n",
       " \"you'll\",\n",
       " \"you're\",\n",
       " \"you've\",\n",
       " 'your',\n",
       " 'yours',\n",
       " 'yourself',\n",
       " 'yourselves'}"
      ]
     },
     "execution_count": 13,
     "metadata": {},
     "output_type": "execute_result"
    }
   ],
   "source": [
    "stop_words"
   ]
  },
  {
   "cell_type": "code",
   "execution_count": 14,
   "metadata": {},
   "outputs": [
    {
     "data": {
      "text/html": [
       "<div>\n",
       "<style scoped>\n",
       "    .dataframe tbody tr th:only-of-type {\n",
       "        vertical-align: middle;\n",
       "    }\n",
       "\n",
       "    .dataframe tbody tr th {\n",
       "        vertical-align: top;\n",
       "    }\n",
       "\n",
       "    .dataframe thead th {\n",
       "        text-align: right;\n",
       "    }\n",
       "</style>\n",
       "<table border=\"1\" class=\"dataframe\">\n",
       "  <thead>\n",
       "    <tr style=\"text-align: right;\">\n",
       "      <th></th>\n",
       "      <th>text</th>\n",
       "      <th>spam</th>\n",
       "    </tr>\n",
       "  </thead>\n",
       "  <tbody>\n",
       "    <tr>\n",
       "      <th>0</th>\n",
       "      <td>Subject: naturally irresistible your corporate...</td>\n",
       "      <td>1</td>\n",
       "    </tr>\n",
       "    <tr>\n",
       "      <th>1</th>\n",
       "      <td>Subject: the stock trading gunslinger  fanny i...</td>\n",
       "      <td>1</td>\n",
       "    </tr>\n",
       "    <tr>\n",
       "      <th>2</th>\n",
       "      <td>Subject: unbelievable new homes made easy  im ...</td>\n",
       "      <td>1</td>\n",
       "    </tr>\n",
       "    <tr>\n",
       "      <th>3</th>\n",
       "      <td>Subject: 4 color printing special  request add...</td>\n",
       "      <td>1</td>\n",
       "    </tr>\n",
       "    <tr>\n",
       "      <th>4</th>\n",
       "      <td>Subject: do not have money , get software cds ...</td>\n",
       "      <td>1</td>\n",
       "    </tr>\n",
       "    <tr>\n",
       "      <th>...</th>\n",
       "      <td>...</td>\n",
       "      <td>...</td>\n",
       "    </tr>\n",
       "    <tr>\n",
       "      <th>5723</th>\n",
       "      <td>Subject: re : research and development charges...</td>\n",
       "      <td>0</td>\n",
       "    </tr>\n",
       "    <tr>\n",
       "      <th>5724</th>\n",
       "      <td>Subject: re : receipts from visit  jim ,  than...</td>\n",
       "      <td>0</td>\n",
       "    </tr>\n",
       "    <tr>\n",
       "      <th>5725</th>\n",
       "      <td>Subject: re : enron case study update  wow ! a...</td>\n",
       "      <td>0</td>\n",
       "    </tr>\n",
       "    <tr>\n",
       "      <th>5726</th>\n",
       "      <td>Subject: re : interest  david ,  please , call...</td>\n",
       "      <td>0</td>\n",
       "    </tr>\n",
       "    <tr>\n",
       "      <th>5727</th>\n",
       "      <td>Subject: news : aurora 5 . 2 update  aurora ve...</td>\n",
       "      <td>0</td>\n",
       "    </tr>\n",
       "  </tbody>\n",
       "</table>\n",
       "<p>5728 rows × 2 columns</p>\n",
       "</div>"
      ],
      "text/plain": [
       "                                                   text  spam\n",
       "0     Subject: naturally irresistible your corporate...     1\n",
       "1     Subject: the stock trading gunslinger  fanny i...     1\n",
       "2     Subject: unbelievable new homes made easy  im ...     1\n",
       "3     Subject: 4 color printing special  request add...     1\n",
       "4     Subject: do not have money , get software cds ...     1\n",
       "...                                                 ...   ...\n",
       "5723  Subject: re : research and development charges...     0\n",
       "5724  Subject: re : receipts from visit  jim ,  than...     0\n",
       "5725  Subject: re : enron case study update  wow ! a...     0\n",
       "5726  Subject: re : interest  david ,  please , call...     0\n",
       "5727  Subject: news : aurora 5 . 2 update  aurora ve...     0\n",
       "\n",
       "[5728 rows x 2 columns]"
      ]
     },
     "execution_count": 14,
     "metadata": {},
     "output_type": "execute_result"
    }
   ],
   "source": [
    "#now we remove all punctuations and stop words\n",
    "df"
   ]
  },
  {
   "cell_type": "code",
   "execution_count": 15,
   "metadata": {},
   "outputs": [],
   "source": [
    "def remove_punct(text):\n",
    "    nopunct = [char for char in text if char not in punct]\n",
    "    nopunct = ''.join(nopunct)\n",
    "    return(nopunct)\n",
    "\n",
    "#this function remove the punctuation\n",
    "    "
   ]
  },
  {
   "cell_type": "code",
   "execution_count": 16,
   "metadata": {},
   "outputs": [],
   "source": [
    "df1 = df['text'].apply(remove_punct)"
   ]
  },
  {
   "cell_type": "code",
   "execution_count": 17,
   "metadata": {},
   "outputs": [
    {
     "data": {
      "text/plain": [
       "0       Subject naturally irresistible your corporate ...\n",
       "1       Subject the stock trading gunslinger  fanny is...\n",
       "2       Subject unbelievable new homes made easy  im w...\n",
       "3       Subject 4 color printing special  request addi...\n",
       "4       Subject do not have money  get software cds fr...\n",
       "                              ...                        \n",
       "5723    Subject re  research and development charges t...\n",
       "5724    Subject re  receipts from visit  jim   thanks ...\n",
       "5725    Subject re  enron case study update  wow  all ...\n",
       "5726    Subject re  interest  david   please  call shi...\n",
       "5727    Subject news  aurora 5  2 update  aurora versi...\n",
       "Name: text, Length: 5728, dtype: object"
      ]
     },
     "execution_count": 17,
     "metadata": {},
     "output_type": "execute_result"
    }
   ],
   "source": [
    "df1"
   ]
  },
  {
   "cell_type": "code",
   "execution_count": 18,
   "metadata": {},
   "outputs": [],
   "source": [
    "#now we remove all stop words\n",
    "def remove_stop(text):\n",
    "    nostop = [word for word in text.split() if word.lower() not in stop_words]\n",
    "    return(nostop)"
   ]
  },
  {
   "cell_type": "code",
   "execution_count": 19,
   "metadata": {},
   "outputs": [],
   "source": [
    "df2 = df1.apply(remove_stop)"
   ]
  },
  {
   "cell_type": "code",
   "execution_count": 20,
   "metadata": {},
   "outputs": [
    {
     "data": {
      "text/plain": [
       "0       [Subject, naturally, irresistible, corporate, ...\n",
       "1       [Subject, stock, trading, gunslinger, fanny, m...\n",
       "2       [Subject, unbelievable, new, homes, made, easy...\n",
       "3       [Subject, 4, color, printing, special, request...\n",
       "4       [Subject, money, get, software, cds, software,...\n",
       "                              ...                        \n",
       "5723    [Subject, research, development, charges, gpg,...\n",
       "5724    [Subject, receipts, visit, jim, thanks, invita...\n",
       "5725    [Subject, enron, case, study, update, wow, day...\n",
       "5726    [Subject, interest, david, please, call, shirl...\n",
       "5727    [Subject, news, aurora, 5, 2, update, aurora, ...\n",
       "Name: text, Length: 5728, dtype: object"
      ]
     },
     "execution_count": 20,
     "metadata": {},
     "output_type": "execute_result"
    }
   ],
   "source": [
    "df2 #at this point we have a list of tokens to analyze"
   ]
  },
  {
   "cell_type": "code",
   "execution_count": 21,
   "metadata": {},
   "outputs": [],
   "source": [
    "def remove_everything(text):\n",
    "    return remove_stop(remove_punct(text))\n",
    "\n",
    "#this is definetely not the best coding - but is just to show the progression"
   ]
  },
  {
   "cell_type": "code",
   "execution_count": 22,
   "metadata": {},
   "outputs": [
    {
     "data": {
      "text/plain": [
       "0       [Subject, naturally, irresistible, corporate, ...\n",
       "1       [Subject, stock, trading, gunslinger, fanny, m...\n",
       "2       [Subject, unbelievable, new, homes, made, easy...\n",
       "3       [Subject, 4, color, printing, special, request...\n",
       "4       [Subject, money, get, software, cds, software,...\n",
       "                              ...                        \n",
       "5723    [Subject, research, development, charges, gpg,...\n",
       "5724    [Subject, receipts, visit, jim, thanks, invita...\n",
       "5725    [Subject, enron, case, study, update, wow, day...\n",
       "5726    [Subject, interest, david, please, call, shirl...\n",
       "5727    [Subject, news, aurora, 5, 2, update, aurora, ...\n",
       "Name: text, Length: 5728, dtype: object"
      ]
     },
     "execution_count": 22,
     "metadata": {},
     "output_type": "execute_result"
    }
   ],
   "source": [
    "df['text'].apply(remove_everything)"
   ]
  },
  {
   "cell_type": "code",
   "execution_count": 23,
   "metadata": {},
   "outputs": [],
   "source": [
    "from sklearn.feature_extraction.text import CountVectorizer\n",
    "#https://scikit-learn.org/stable/modules/generated/sklearn.feature_extraction.text.CountVectorizer.html"
   ]
  },
  {
   "cell_type": "code",
   "execution_count": 24,
   "metadata": {},
   "outputs": [
    {
     "name": "stdout",
     "output_type": "stream",
     "text": [
      "KEA is a university, /////located in Nørrebro I love burger burger\n"
     ]
    }
   ],
   "source": [
    "message = 'KEA is a university, /////located in Nørrebro I love burger burger'\n",
    "message2 = \"are great or burger, burger\"\n",
    "message3 = 'hey i love berries and burger love burger a lot burger'\n",
    "print(message)"
   ]
  },
  {
   "cell_type": "code",
   "execution_count": 25,
   "metadata": {},
   "outputs": [],
   "source": [
    "vectorizer = CountVectorizer(analyzer=remove_everything)\n",
    "#initialize a vector object\n"
   ]
  },
  {
   "cell_type": "code",
   "execution_count": 26,
   "metadata": {},
   "outputs": [],
   "source": [
    "vect_fit_trans = vectorizer.fit_transform([message,message2,message3]) \n",
    "#run the function fit_transform over the array of messages"
   ]
  },
  {
   "cell_type": "code",
   "execution_count": 67,
   "metadata": {},
   "outputs": [],
   "source": [
    "count_tokens=vectorizer.get_feature_names()\n",
    "#shows all the features extracted - they are simply put in alphabetical order"
   ]
  },
  {
   "cell_type": "code",
   "execution_count": 68,
   "metadata": {},
   "outputs": [
    {
     "data": {
      "text/plain": [
       "['KEA',\n",
       " 'Nørrebro',\n",
       " 'berries',\n",
       " 'burger',\n",
       " 'great',\n",
       " 'hey',\n",
       " 'located',\n",
       " 'lot',\n",
       " 'love',\n",
       " 'university']"
      ]
     },
     "execution_count": 68,
     "metadata": {},
     "output_type": "execute_result"
    }
   ],
   "source": [
    "count_tokens"
   ]
  },
  {
   "cell_type": "code",
   "execution_count": 28,
   "metadata": {},
   "outputs": [
    {
     "name": "stdout",
     "output_type": "stream",
     "text": [
      "  (0, 0)\t1\n",
      "  (0, 9)\t1\n",
      "  (0, 6)\t1\n",
      "  (0, 1)\t1\n",
      "  (0, 8)\t1\n",
      "  (0, 3)\t2\n",
      "  (1, 3)\t2\n",
      "  (1, 4)\t1\n",
      "  (2, 8)\t2\n",
      "  (2, 3)\t3\n",
      "  (2, 5)\t1\n",
      "  (2, 2)\t1\n",
      "  (2, 7)\t1\n"
     ]
    }
   ],
   "source": [
    "print(vect_fit_trans)\n",
    "#each word is transformed into a vector (x,y) n\n",
    "#bag of words"
   ]
  },
  {
   "cell_type": "code",
   "execution_count": null,
   "metadata": {},
   "outputs": [],
   "source": []
  },
  {
   "cell_type": "code",
   "execution_count": null,
   "metadata": {},
   "outputs": [],
   "source": []
  },
  {
   "cell_type": "code",
   "execution_count": 70,
   "metadata": {},
   "outputs": [],
   "source": [
    "df_countvect = pd.DataFrame(data = vect_fit_trans.toarray(),index = ['message','message2','message3'],columns = count_tokens)"
   ]
  },
  {
   "cell_type": "code",
   "execution_count": 71,
   "metadata": {},
   "outputs": [
    {
     "data": {
      "text/html": [
       "<div>\n",
       "<style scoped>\n",
       "    .dataframe tbody tr th:only-of-type {\n",
       "        vertical-align: middle;\n",
       "    }\n",
       "\n",
       "    .dataframe tbody tr th {\n",
       "        vertical-align: top;\n",
       "    }\n",
       "\n",
       "    .dataframe thead th {\n",
       "        text-align: right;\n",
       "    }\n",
       "</style>\n",
       "<table border=\"1\" class=\"dataframe\">\n",
       "  <thead>\n",
       "    <tr style=\"text-align: right;\">\n",
       "      <th></th>\n",
       "      <th>KEA</th>\n",
       "      <th>Nørrebro</th>\n",
       "      <th>berries</th>\n",
       "      <th>burger</th>\n",
       "      <th>great</th>\n",
       "      <th>hey</th>\n",
       "      <th>located</th>\n",
       "      <th>lot</th>\n",
       "      <th>love</th>\n",
       "      <th>university</th>\n",
       "    </tr>\n",
       "  </thead>\n",
       "  <tbody>\n",
       "    <tr>\n",
       "      <th>message</th>\n",
       "      <td>1</td>\n",
       "      <td>1</td>\n",
       "      <td>0</td>\n",
       "      <td>2</td>\n",
       "      <td>0</td>\n",
       "      <td>0</td>\n",
       "      <td>1</td>\n",
       "      <td>0</td>\n",
       "      <td>1</td>\n",
       "      <td>1</td>\n",
       "    </tr>\n",
       "    <tr>\n",
       "      <th>message2</th>\n",
       "      <td>0</td>\n",
       "      <td>0</td>\n",
       "      <td>0</td>\n",
       "      <td>2</td>\n",
       "      <td>1</td>\n",
       "      <td>0</td>\n",
       "      <td>0</td>\n",
       "      <td>0</td>\n",
       "      <td>0</td>\n",
       "      <td>0</td>\n",
       "    </tr>\n",
       "    <tr>\n",
       "      <th>message3</th>\n",
       "      <td>0</td>\n",
       "      <td>0</td>\n",
       "      <td>1</td>\n",
       "      <td>3</td>\n",
       "      <td>0</td>\n",
       "      <td>1</td>\n",
       "      <td>0</td>\n",
       "      <td>1</td>\n",
       "      <td>2</td>\n",
       "      <td>0</td>\n",
       "    </tr>\n",
       "  </tbody>\n",
       "</table>\n",
       "</div>"
      ],
      "text/plain": [
       "          KEA  Nørrebro  berries  burger  great  hey  located  lot  love  \\\n",
       "message     1         1        0       2      0    0        1    0     1   \n",
       "message2    0         0        0       2      1    0        0    0     0   \n",
       "message3    0         0        1       3      0    1        0    1     2   \n",
       "\n",
       "          university  \n",
       "message            1  \n",
       "message2           0  \n",
       "message3           0  "
      ]
     },
     "execution_count": 71,
     "metadata": {},
     "output_type": "execute_result"
    }
   ],
   "source": [
    "df_countvect"
   ]
  },
  {
   "cell_type": "code",
   "execution_count": 29,
   "metadata": {},
   "outputs": [],
   "source": [
    "transformvc = CountVectorizer(analyzer=remove_everything)"
   ]
  },
  {
   "cell_type": "code",
   "execution_count": 30,
   "metadata": {},
   "outputs": [],
   "source": [
    "FiTrannsformvc = transformvc.fit_transform(df['text'])"
   ]
  },
  {
   "cell_type": "code",
   "execution_count": 31,
   "metadata": {},
   "outputs": [
    {
     "data": {
      "text/plain": [
       "['\\x01',\n",
       " '\\x02',\n",
       " '\\x03',\n",
       " '\\x05',\n",
       " '\\x06',\n",
       " '\\x07',\n",
       " '\\x08',\n",
       " '\\x0f',\n",
       " '\\x10',\n",
       " '\\x12',\n",
       " '\\x14',\n",
       " '\\x15',\n",
       " '\\x19',\n",
       " '0',\n",
       " '00',\n",
       " '000',\n",
       " '0000',\n",
       " '000000',\n",
       " '00000000',\n",
       " '0000000000',\n",
       " '000000000003619',\n",
       " '000000000003991',\n",
       " '000000000003997',\n",
       " '000000000005168',\n",
       " '000000000005409',\n",
       " '000000000005411',\n",
       " '000000000005412',\n",
       " '000000000005413',\n",
       " '000000000005820',\n",
       " '000000000006238',\n",
       " '000000000006452',\n",
       " '000000000007494',\n",
       " '000000000007498',\n",
       " '000000000007876',\n",
       " '000000000010552',\n",
       " '000000000011185',\n",
       " '000000000012677',\n",
       " '000000000012734',\n",
       " '000000000012735',\n",
       " '000000000012736',\n",
       " '000000000012738',\n",
       " '000000000012741',\n",
       " '000000000012987',\n",
       " '000000000013085',\n",
       " '000000000013287',\n",
       " '000000000015384',\n",
       " '000000000015793',\n",
       " '000000000023619',\n",
       " '000000000024099',\n",
       " '000000000025307',\n",
       " '000000000025312',\n",
       " '000010220',\n",
       " '0000102317',\n",
       " '0000102374',\n",
       " '0000102789',\n",
       " '0000104281',\n",
       " '0000104282',\n",
       " '0000104486',\n",
       " '0000104631',\n",
       " '0000104730',\n",
       " '0000104776',\n",
       " '0000104778',\n",
       " '0000107043',\n",
       " '0000108729',\n",
       " '000066',\n",
       " '0001',\n",
       " '000166',\n",
       " '0002',\n",
       " '000202',\n",
       " '0003',\n",
       " '0004',\n",
       " '0005',\n",
       " '0006',\n",
       " '00076',\n",
       " '0009249480',\n",
       " '0009249481',\n",
       " '0009249504',\n",
       " '0009249505',\n",
       " '0009249506',\n",
       " '001',\n",
       " '0011',\n",
       " '0015',\n",
       " '00193',\n",
       " '002',\n",
       " '00225',\n",
       " '00235424',\n",
       " '002813',\n",
       " '0029',\n",
       " '003',\n",
       " '0031',\n",
       " '003399',\n",
       " '00343938',\n",
       " '004',\n",
       " '0044',\n",
       " '00453',\n",
       " '005',\n",
       " '0052',\n",
       " '0054',\n",
       " '0057',\n",
       " '006',\n",
       " '0061',\n",
       " '00623',\n",
       " '007',\n",
       " '0080',\n",
       " '00971',\n",
       " '01',\n",
       " '010',\n",
       " '0100',\n",
       " '01019',\n",
       " '0102',\n",
       " '0107',\n",
       " '01075',\n",
       " '0109',\n",
       " '011',\n",
       " '0110',\n",
       " '011000',\n",
       " '0115',\n",
       " '011601',\n",
       " '01210',\n",
       " '0125',\n",
       " '012501',\n",
       " '012601',\n",
       " '013',\n",
       " '014',\n",
       " '0141',\n",
       " '015',\n",
       " '01500',\n",
       " '016',\n",
       " '0160',\n",
       " '017',\n",
       " '0171',\n",
       " '017201846',\n",
       " '0181',\n",
       " '01867',\n",
       " '01880',\n",
       " '01890',\n",
       " '0190',\n",
       " '0191',\n",
       " '01928923',\n",
       " '02',\n",
       " '020',\n",
       " '0200',\n",
       " '020130',\n",
       " '0202',\n",
       " '0207',\n",
       " '0208',\n",
       " '021',\n",
       " '02138',\n",
       " '0214',\n",
       " '02142',\n",
       " '02155',\n",
       " '02163',\n",
       " '022',\n",
       " '02215',\n",
       " '0227000',\n",
       " '022900',\n",
       " '023',\n",
       " '023154',\n",
       " '025',\n",
       " '02539',\n",
       " '026',\n",
       " '0263',\n",
       " '028',\n",
       " '0291',\n",
       " '0295',\n",
       " '03',\n",
       " '030',\n",
       " '0300',\n",
       " '0305',\n",
       " '0308',\n",
       " '0309',\n",
       " '031',\n",
       " '0311',\n",
       " '0313',\n",
       " '0314',\n",
       " '0315',\n",
       " '032',\n",
       " '0329',\n",
       " '0330',\n",
       " '03302',\n",
       " '0335',\n",
       " '0342',\n",
       " '0348',\n",
       " '0351',\n",
       " '0357',\n",
       " '0361',\n",
       " '0363',\n",
       " '0367826',\n",
       " '03755',\n",
       " '039',\n",
       " '0390',\n",
       " '0396',\n",
       " '04',\n",
       " '040',\n",
       " '0400',\n",
       " '0404',\n",
       " '0408',\n",
       " '0413',\n",
       " '0417',\n",
       " '0421',\n",
       " '0423',\n",
       " '0424',\n",
       " '0428',\n",
       " '043',\n",
       " '0434',\n",
       " '0435',\n",
       " '0439',\n",
       " '044',\n",
       " '0447',\n",
       " '046',\n",
       " '0477',\n",
       " '048',\n",
       " '0489',\n",
       " '049',\n",
       " '05',\n",
       " '050',\n",
       " '0500',\n",
       " '0503778',\n",
       " '0504918',\n",
       " '050719125947',\n",
       " '051',\n",
       " '051102',\n",
       " '0521',\n",
       " '0521782325',\n",
       " '0526',\n",
       " '0529',\n",
       " '053',\n",
       " '054',\n",
       " '0541',\n",
       " '0543',\n",
       " '055',\n",
       " '0551',\n",
       " '0555',\n",
       " '0567',\n",
       " '0573',\n",
       " '0578',\n",
       " '0582',\n",
       " '0587',\n",
       " '058862',\n",
       " '0596',\n",
       " '06',\n",
       " '0600',\n",
       " '0602',\n",
       " '0603',\n",
       " '061',\n",
       " '0625',\n",
       " '063',\n",
       " '0634',\n",
       " '0636',\n",
       " '0643',\n",
       " '06484',\n",
       " '0651',\n",
       " '0653',\n",
       " '0664',\n",
       " '0667',\n",
       " '067',\n",
       " '0672',\n",
       " '068',\n",
       " '0681',\n",
       " '0688',\n",
       " '06902',\n",
       " '0693',\n",
       " '07',\n",
       " '070',\n",
       " '0700',\n",
       " '0702',\n",
       " '070300',\n",
       " '07047',\n",
       " '0706',\n",
       " '070600',\n",
       " '070700',\n",
       " '071',\n",
       " '0710',\n",
       " '071000',\n",
       " '07102',\n",
       " '071100',\n",
       " '0713',\n",
       " '071300',\n",
       " '071400',\n",
       " '071800',\n",
       " '072',\n",
       " '072000',\n",
       " '072100',\n",
       " '072500',\n",
       " '072600',\n",
       " '072700',\n",
       " '0728',\n",
       " '072800',\n",
       " '073',\n",
       " '073100',\n",
       " '0732',\n",
       " '0738',\n",
       " '0740',\n",
       " '0741',\n",
       " '075530',\n",
       " '075983628',\n",
       " '0765',\n",
       " '0768',\n",
       " '0774',\n",
       " '07747',\n",
       " '0775',\n",
       " '07828',\n",
       " '07971',\n",
       " '0799',\n",
       " '08',\n",
       " '0800',\n",
       " '0802',\n",
       " '08053',\n",
       " '08074200',\n",
       " '0815',\n",
       " '082',\n",
       " '0820',\n",
       " '083',\n",
       " '084',\n",
       " '0852',\n",
       " '086',\n",
       " '0881',\n",
       " '0886',\n",
       " '0889',\n",
       " '0893',\n",
       " '0898',\n",
       " '09',\n",
       " '090',\n",
       " '0900',\n",
       " '0906',\n",
       " '09075930',\n",
       " '0908',\n",
       " '091',\n",
       " '09176',\n",
       " '092',\n",
       " '0920',\n",
       " '0923',\n",
       " '0923182',\n",
       " '0924',\n",
       " '093',\n",
       " '0933',\n",
       " '0934',\n",
       " '09359978',\n",
       " '09359984',\n",
       " '09360007',\n",
       " '09360194',\n",
       " '09360200',\n",
       " '09360393',\n",
       " '09360462',\n",
       " '09360592',\n",
       " '09360701',\n",
       " '0943',\n",
       " '0961',\n",
       " '0977',\n",
       " '0985',\n",
       " '09886',\n",
       " '099',\n",
       " '0990',\n",
       " '0991',\n",
       " '0994',\n",
       " '0999',\n",
       " '1',\n",
       " '10',\n",
       " '100',\n",
       " '1000',\n",
       " '10000',\n",
       " '100000',\n",
       " '100038',\n",
       " '10005',\n",
       " '10006',\n",
       " '10007',\n",
       " '1001',\n",
       " '10012',\n",
       " '10017',\n",
       " '1002',\n",
       " '10022',\n",
       " '10024',\n",
       " '1003',\n",
       " '10030',\n",
       " '100309',\n",
       " '100348',\n",
       " '1004',\n",
       " '100467',\n",
       " '1005',\n",
       " '1009',\n",
       " '101',\n",
       " '1010',\n",
       " '10118',\n",
       " '10128',\n",
       " '1013',\n",
       " '1016',\n",
       " '101800',\n",
       " '1019',\n",
       " '102',\n",
       " '1020',\n",
       " '1022',\n",
       " '1022002',\n",
       " '1024',\n",
       " '1026',\n",
       " '102789',\n",
       " '102843',\n",
       " '103',\n",
       " '1030',\n",
       " '10300',\n",
       " '103058',\n",
       " '10320',\n",
       " '1033',\n",
       " '1034',\n",
       " '10341',\n",
       " '1035',\n",
       " '1038711',\n",
       " '104',\n",
       " '10408',\n",
       " '104281',\n",
       " '104282',\n",
       " '104486',\n",
       " '104546',\n",
       " '104776',\n",
       " '105',\n",
       " '1050',\n",
       " '105006',\n",
       " '10501',\n",
       " '105043',\n",
       " '1054',\n",
       " '105764',\n",
       " '105896',\n",
       " '106',\n",
       " '1063',\n",
       " '10640',\n",
       " '1068238',\n",
       " '1069',\n",
       " '107',\n",
       " '10700',\n",
       " '107043',\n",
       " '1071',\n",
       " '1075',\n",
       " '107780',\n",
       " '1079',\n",
       " '108',\n",
       " '1087',\n",
       " '109',\n",
       " '1092',\n",
       " '1093',\n",
       " '1095',\n",
       " '1097',\n",
       " '1099',\n",
       " '11',\n",
       " '110',\n",
       " '1100',\n",
       " '1105',\n",
       " '110520',\n",
       " '1106',\n",
       " '1109',\n",
       " '111',\n",
       " '1110',\n",
       " '11101',\n",
       " '11101024',\n",
       " '1111',\n",
       " '1112',\n",
       " '1115',\n",
       " '112',\n",
       " '1120',\n",
       " '1121770867',\n",
       " '11240',\n",
       " '1126',\n",
       " '113',\n",
       " '1132',\n",
       " '1139',\n",
       " '114',\n",
       " '1140',\n",
       " '1143',\n",
       " '1144',\n",
       " '1145',\n",
       " '1147',\n",
       " '1148',\n",
       " '1149',\n",
       " '114900',\n",
       " '115',\n",
       " '1152',\n",
       " '1153',\n",
       " '1155',\n",
       " '116',\n",
       " '1163',\n",
       " '11654',\n",
       " '116595',\n",
       " '117',\n",
       " '1175',\n",
       " '1179',\n",
       " '118',\n",
       " '11822',\n",
       " '1187',\n",
       " '1188',\n",
       " '119',\n",
       " '11956',\n",
       " '1196',\n",
       " '12',\n",
       " '120',\n",
       " '1200',\n",
       " '12000',\n",
       " '1201',\n",
       " '1203',\n",
       " '120415',\n",
       " '1206',\n",
       " '1207',\n",
       " '1208',\n",
       " '1209',\n",
       " '121',\n",
       " '1210',\n",
       " '1211',\n",
       " '1212',\n",
       " '1218',\n",
       " '122',\n",
       " '1223',\n",
       " '1227',\n",
       " '1229',\n",
       " '123',\n",
       " '1231',\n",
       " '1232',\n",
       " '1234',\n",
       " '123542',\n",
       " '1239',\n",
       " '12390',\n",
       " '124',\n",
       " '1243',\n",
       " '1244',\n",
       " '125',\n",
       " '12500',\n",
       " '1251',\n",
       " '1252',\n",
       " '125217',\n",
       " '125219',\n",
       " '125220',\n",
       " '125223',\n",
       " '1254',\n",
       " '126',\n",
       " '126041',\n",
       " '1262',\n",
       " '126432211',\n",
       " '1266',\n",
       " '126812',\n",
       " '1269',\n",
       " '127',\n",
       " '128',\n",
       " '1280',\n",
       " '129',\n",
       " '12973228',\n",
       " '1298',\n",
       " '1299',\n",
       " '13',\n",
       " '130',\n",
       " '1300',\n",
       " '13000',\n",
       " '1302',\n",
       " '13026',\n",
       " '1303',\n",
       " '1308',\n",
       " '131',\n",
       " '1311',\n",
       " '1313',\n",
       " '1314',\n",
       " '1317',\n",
       " '1319',\n",
       " '132',\n",
       " '1323',\n",
       " '1326',\n",
       " '133',\n",
       " '1330',\n",
       " '13317089',\n",
       " '1332',\n",
       " '13326',\n",
       " '1333395',\n",
       " '1333398',\n",
       " '133777',\n",
       " '1339',\n",
       " '134',\n",
       " '1341',\n",
       " '13417514',\n",
       " '1345218',\n",
       " '1346',\n",
       " '1347',\n",
       " '1348',\n",
       " '135',\n",
       " '1350',\n",
       " '136',\n",
       " '1360',\n",
       " '1362',\n",
       " '13662',\n",
       " '13681',\n",
       " '1369',\n",
       " '137',\n",
       " '13710',\n",
       " '1373',\n",
       " '138',\n",
       " '1380',\n",
       " '1382',\n",
       " '1383',\n",
       " '1385',\n",
       " '139',\n",
       " '14',\n",
       " '140',\n",
       " '1400',\n",
       " '1403',\n",
       " '14041',\n",
       " '140456',\n",
       " '14068',\n",
       " '14092',\n",
       " '141',\n",
       " '1411',\n",
       " '1412',\n",
       " '14123',\n",
       " '1413',\n",
       " '1414',\n",
       " '142',\n",
       " '1421',\n",
       " '14216',\n",
       " '1424',\n",
       " '1426',\n",
       " '142756',\n",
       " '143',\n",
       " '1438',\n",
       " '143974',\n",
       " '144',\n",
       " '1440',\n",
       " '1444',\n",
       " '145',\n",
       " '1450',\n",
       " '1451',\n",
       " '14515',\n",
       " '1453',\n",
       " '1457',\n",
       " '1459',\n",
       " '146',\n",
       " '1461',\n",
       " '1465',\n",
       " '1467',\n",
       " '147',\n",
       " '1470',\n",
       " '148',\n",
       " '1481',\n",
       " '1483',\n",
       " '1487',\n",
       " '148820',\n",
       " '149',\n",
       " '149285',\n",
       " '15',\n",
       " '150',\n",
       " '1500',\n",
       " '15000',\n",
       " '1507',\n",
       " '151',\n",
       " '1510',\n",
       " '1511',\n",
       " '15116',\n",
       " '15120',\n",
       " '1515',\n",
       " '15177',\n",
       " '1519',\n",
       " '152',\n",
       " '1521',\n",
       " '15213',\n",
       " '1523',\n",
       " '1524',\n",
       " '1525',\n",
       " '153',\n",
       " '1530',\n",
       " '1533',\n",
       " '1534',\n",
       " '1535',\n",
       " '154',\n",
       " '1540',\n",
       " '1543',\n",
       " '1545',\n",
       " '155',\n",
       " '15500',\n",
       " '156074',\n",
       " '1562',\n",
       " '156489',\n",
       " '1565',\n",
       " '157',\n",
       " '1572',\n",
       " '1575332211111',\n",
       " '1579580025',\n",
       " '158',\n",
       " '1580',\n",
       " '158545',\n",
       " '159',\n",
       " '16',\n",
       " '160',\n",
       " '1600',\n",
       " '16008',\n",
       " '161',\n",
       " '16102',\n",
       " '1615',\n",
       " '1618',\n",
       " '162',\n",
       " '1620',\n",
       " '162182',\n",
       " '1622',\n",
       " '1628',\n",
       " '163',\n",
       " '1631',\n",
       " '1635',\n",
       " '164',\n",
       " '1643',\n",
       " '1645',\n",
       " '165',\n",
       " '16500',\n",
       " '1654614',\n",
       " '1658999',\n",
       " '166',\n",
       " '1667',\n",
       " '167',\n",
       " '1672',\n",
       " '1676',\n",
       " '1678',\n",
       " '168',\n",
       " '1681',\n",
       " '16822',\n",
       " '1685',\n",
       " '169',\n",
       " '1692062',\n",
       " '1692093',\n",
       " '1697',\n",
       " '17',\n",
       " '170',\n",
       " '1700',\n",
       " '1701',\n",
       " '1704',\n",
       " '1708',\n",
       " '171',\n",
       " '1717',\n",
       " '172',\n",
       " '1720',\n",
       " '1722452',\n",
       " '173',\n",
       " '1730',\n",
       " '1735',\n",
       " '174',\n",
       " '1740',\n",
       " '1741',\n",
       " '175',\n",
       " '1753',\n",
       " '176',\n",
       " '17600',\n",
       " '1762',\n",
       " '17639',\n",
       " '1769',\n",
       " '177',\n",
       " '1776',\n",
       " '1777',\n",
       " '178',\n",
       " '179',\n",
       " '1790',\n",
       " '1796',\n",
       " '17996',\n",
       " '18',\n",
       " '180',\n",
       " '1800',\n",
       " '18048',\n",
       " '1807',\n",
       " '181',\n",
       " '1810',\n",
       " '1816',\n",
       " '182',\n",
       " '1823',\n",
       " '1825',\n",
       " '1827',\n",
       " '1829',\n",
       " '1830',\n",
       " '1836',\n",
       " '1839',\n",
       " '184',\n",
       " '18400',\n",
       " '1845',\n",
       " '1846',\n",
       " '1848025',\n",
       " '185',\n",
       " '18525',\n",
       " '1854',\n",
       " '185530',\n",
       " '185531',\n",
       " '1859',\n",
       " '186',\n",
       " '1860',\n",
       " '1862',\n",
       " '1864',\n",
       " '187',\n",
       " '1877',\n",
       " '1878',\n",
       " '1879',\n",
       " '188',\n",
       " '1880',\n",
       " '189',\n",
       " '1890',\n",
       " '1892',\n",
       " '1894',\n",
       " '189643322211',\n",
       " '1897',\n",
       " '19',\n",
       " '190',\n",
       " '1900',\n",
       " '1901',\n",
       " '1902',\n",
       " '1903',\n",
       " '1904',\n",
       " '1905',\n",
       " '1906',\n",
       " '1907',\n",
       " '1908',\n",
       " '1909',\n",
       " '191',\n",
       " '1910',\n",
       " '19103',\n",
       " '19104',\n",
       " '1911',\n",
       " '1912',\n",
       " '1913',\n",
       " '1914',\n",
       " '1915',\n",
       " '1916',\n",
       " '191694',\n",
       " '1917',\n",
       " '1918',\n",
       " '1919',\n",
       " '192',\n",
       " '1920',\n",
       " '1921',\n",
       " '1922',\n",
       " '1923',\n",
       " '1924',\n",
       " '1925',\n",
       " '1926',\n",
       " '1927',\n",
       " '1928',\n",
       " '1929',\n",
       " '193',\n",
       " '1930',\n",
       " '1931',\n",
       " '1932',\n",
       " '1933',\n",
       " '1934',\n",
       " '1935',\n",
       " '193557',\n",
       " '1936',\n",
       " '1937',\n",
       " '1938',\n",
       " '1939',\n",
       " '194',\n",
       " '1940',\n",
       " '1941',\n",
       " '1942',\n",
       " '19424',\n",
       " '1943',\n",
       " '1944',\n",
       " '1945',\n",
       " '1946',\n",
       " '1947',\n",
       " '1948',\n",
       " '1949',\n",
       " '195',\n",
       " '1950',\n",
       " '1951',\n",
       " '1952',\n",
       " '1953',\n",
       " '1954',\n",
       " '1955',\n",
       " '195546',\n",
       " '1956',\n",
       " '1957',\n",
       " '1958',\n",
       " '1959',\n",
       " '196',\n",
       " '1960',\n",
       " '1961',\n",
       " '1962',\n",
       " '1963',\n",
       " '1964',\n",
       " '196445',\n",
       " '1965',\n",
       " '1966',\n",
       " '1967',\n",
       " '19670120',\n",
       " '19673',\n",
       " '1968',\n",
       " '1969',\n",
       " '197',\n",
       " '1970',\n",
       " '1971',\n",
       " '1972',\n",
       " '1973',\n",
       " '1974',\n",
       " '1975',\n",
       " '1976',\n",
       " '1977',\n",
       " '1978',\n",
       " '1979',\n",
       " '1980',\n",
       " '1981',\n",
       " '1982',\n",
       " '1983',\n",
       " '1984',\n",
       " '1985',\n",
       " '1986',\n",
       " '1987',\n",
       " '1988',\n",
       " '1989',\n",
       " '199',\n",
       " '1990',\n",
       " '1991',\n",
       " '1992',\n",
       " '1993',\n",
       " '1994',\n",
       " '1995',\n",
       " '1996',\n",
       " '1997',\n",
       " '1998',\n",
       " '19980801',\n",
       " '19980802',\n",
       " '19980803',\n",
       " '1999',\n",
       " '2',\n",
       " '20',\n",
       " '200',\n",
       " '2000',\n",
       " '20000',\n",
       " '200000',\n",
       " '20000808',\n",
       " '20001',\n",
       " '2000208',\n",
       " '20004',\n",
       " '20006',\n",
       " '200081',\n",
       " '2001',\n",
       " '20010423',\n",
       " '20010427',\n",
       " '20010430',\n",
       " '20010504',\n",
       " '20016',\n",
       " '2002',\n",
       " '2003',\n",
       " '20032',\n",
       " '2004',\n",
       " '20046',\n",
       " '2005',\n",
       " '2005071819',\n",
       " '20052',\n",
       " '20055',\n",
       " '20058',\n",
       " '2006',\n",
       " '2007',\n",
       " '2009',\n",
       " '201',\n",
       " '2010',\n",
       " '20108',\n",
       " '2011',\n",
       " '20110550',\n",
       " '2012',\n",
       " '2013',\n",
       " '2016',\n",
       " '2018',\n",
       " '20190',\n",
       " '202',\n",
       " '2020',\n",
       " '2020269',\n",
       " '2023',\n",
       " '20257',\n",
       " '2026',\n",
       " '202803',\n",
       " '20284',\n",
       " '202885',\n",
       " '2029',\n",
       " '203',\n",
       " '20328',\n",
       " '2034',\n",
       " '2036',\n",
       " '2038',\n",
       " '204',\n",
       " '20410',\n",
       " '205',\n",
       " '2050',\n",
       " '2051',\n",
       " '20537',\n",
       " '20549',\n",
       " '206',\n",
       " '207',\n",
       " '207161',\n",
       " '20742',\n",
       " '2076',\n",
       " '208',\n",
       " '2085',\n",
       " '209',\n",
       " '2092',\n",
       " '2099',\n",
       " '21',\n",
       " '210',\n",
       " '2100',\n",
       " '2100805',\n",
       " '2103',\n",
       " '211',\n",
       " '2114',\n",
       " '2119',\n",
       " '212',\n",
       " '21204',\n",
       " '21231',\n",
       " '2125',\n",
       " ...]"
      ]
     },
     "execution_count": 31,
     "metadata": {},
     "output_type": "execute_result"
    }
   ],
   "source": [
    "transformvc.get_feature_names()\n"
   ]
  },
  {
   "cell_type": "code",
   "execution_count": null,
   "metadata": {},
   "outputs": [],
   "source": [
    "count_tokens = vectorizer.get_feature_names()"
   ]
  },
  {
   "cell_type": "code",
   "execution_count": null,
   "metadata": {},
   "outputs": [],
   "source": []
  },
  {
   "cell_type": "code",
   "execution_count": 32,
   "metadata": {},
   "outputs": [],
   "source": [
    "messages_mat = CountVectorizer(analyzer=remove_everything).fit_transform(df['text'])"
   ]
  },
  {
   "cell_type": "code",
   "execution_count": 33,
   "metadata": {},
   "outputs": [],
   "source": [
    "#now we split the dataset 80% for training and 20% for test\n",
    "from sklearn.model_selection import train_test_split"
   ]
  },
  {
   "cell_type": "code",
   "execution_count": 34,
   "metadata": {},
   "outputs": [],
   "source": [
    "X_train, X_test, y_train, y_test = train_test_split(messages_mat, df['spam'], test_size=0.20, random_state=75)"
   ]
  },
  {
   "cell_type": "markdown",
   "metadata": {},
   "source": [
    "# Naive Bayes"
   ]
  },
  {
   "cell_type": "code",
   "execution_count": 35,
   "metadata": {},
   "outputs": [
    {
     "data": {
      "text/plain": [
       "MultinomialNB()"
      ]
     },
     "execution_count": 35,
     "metadata": {},
     "output_type": "execute_result"
    }
   ],
   "source": [
    "from sklearn.naive_bayes import MultinomialNB\n",
    "classifier = MultinomialNB()\n",
    "classifier.fit(X_train, y_train)\n",
    "\n",
    "# I used Naive Bayes, being one of the most popular algoryth for spam detection\n",
    "# https://www.quora.com/What-are-the-popular-ML-algorithms-for-email-spam-detection"
   ]
  },
  {
   "cell_type": "code",
   "execution_count": 36,
   "metadata": {},
   "outputs": [
    {
     "data": {
      "text/plain": [
       "(4582, 37229)"
      ]
     },
     "execution_count": 36,
     "metadata": {},
     "output_type": "execute_result"
    }
   ],
   "source": [
    "X_train.shape #verify that train & test have the same shape, we fit_transform before the split, therefore it shouldn't be a problem"
   ]
  },
  {
   "cell_type": "code",
   "execution_count": 37,
   "metadata": {},
   "outputs": [
    {
     "data": {
      "text/plain": [
       "(1146, 37229)"
      ]
     },
     "execution_count": 37,
     "metadata": {},
     "output_type": "execute_result"
    }
   ],
   "source": [
    "X_test.shape"
   ]
  },
  {
   "cell_type": "code",
   "execution_count": 38,
   "metadata": {},
   "outputs": [
    {
     "name": "stdout",
     "output_type": "stream",
     "text": [
      "[1 0 0 ... 0 1 0]\n",
      "[1 0 0 ... 0 1 0]\n"
     ]
    }
   ],
   "source": [
    "print(classifier.predict(X_train))\n",
    "print(y_train.values)"
   ]
  },
  {
   "cell_type": "code",
   "execution_count": 39,
   "metadata": {},
   "outputs": [
    {
     "name": "stdout",
     "output_type": "stream",
     "text": [
      "              precision    recall  f1-score   support\n",
      "\n",
      "           0       1.00      1.00      1.00      3484\n",
      "           1       0.99      1.00      0.99      1098\n",
      "\n",
      "    accuracy                           1.00      4582\n",
      "   macro avg       0.99      1.00      1.00      4582\n",
      "weighted avg       1.00      1.00      1.00      4582\n",
      "\n",
      "Confusion Matrix: \n",
      " [[3471   13]\n",
      " [   2 1096]]\n",
      "\n",
      "Accuracy:  0.9967263203841118\n"
     ]
    }
   ],
   "source": [
    "from sklearn.metrics import classification_report,confusion_matrix, accuracy_score\n",
    "pred = classifier.predict(X_train)\n",
    "print(classification_report(y_train ,pred ))\n",
    "print('Confusion Matrix: \\n',confusion_matrix(y_train,pred))\n",
    "print()\n",
    "print('Accuracy: ', accuracy_score(y_train,pred))"
   ]
  },
  {
   "cell_type": "code",
   "execution_count": 40,
   "metadata": {},
   "outputs": [],
   "source": [
    "import seaborn as sn\n",
    "import matplotlib.pyplot as plt"
   ]
  },
  {
   "cell_type": "code",
   "execution_count": 41,
   "metadata": {},
   "outputs": [
    {
     "name": "stdout",
     "output_type": "stream",
     "text": [
      "Predicted value:  [0 0 0 ... 0 0 0]\n",
      "Actual value:  [0 0 0 ... 0 0 0]\n"
     ]
    }
   ],
   "source": [
    "#Print the predictions\n",
    "print('Predicted value: ',classifier.predict(X_test))\n",
    "\n",
    "#Print Actual Label\n",
    "print('Actual value: ',y_test.values)"
   ]
  },
  {
   "cell_type": "code",
   "execution_count": 42,
   "metadata": {},
   "outputs": [
    {
     "name": "stdout",
     "output_type": "stream",
     "text": [
      "              precision    recall  f1-score   support\n",
      "\n",
      "           0       1.00      0.99      1.00       876\n",
      "           1       0.97      1.00      0.99       270\n",
      "\n",
      "    accuracy                           0.99      1146\n",
      "   macro avg       0.99      1.00      0.99      1146\n",
      "weighted avg       0.99      0.99      0.99      1146\n",
      "\n"
     ]
    }
   ],
   "source": [
    "#evaluate the model on the test data set\n",
    "from sklearn.metrics import classification_report,confusion_matrix, accuracy_score\n",
    "pred = classifier.predict(X_test)\n",
    "print(classification_report(y_test ,pred ))"
   ]
  },
  {
   "cell_type": "code",
   "execution_count": 43,
   "metadata": {},
   "outputs": [
    {
     "name": "stdout",
     "output_type": "stream",
     "text": [
      "Confusion Matrix: \n",
      " [[868   8]\n",
      " [  0 270]]\n",
      "\n",
      "Accuracy:  0.9930191972076788\n"
     ]
    }
   ],
   "source": [
    "print('Confusion Matrix: \\n', confusion_matrix(y_test,pred))\n",
    "print()\n",
    "print('Accuracy: ', accuracy_score(y_test,pred))"
   ]
  },
  {
   "cell_type": "code",
   "execution_count": 44,
   "metadata": {},
   "outputs": [
    {
     "name": "stdout",
     "output_type": "stream",
     "text": [
      "\n",
      "cacciatore ' s sounds fine with us . we will see you there at 7 : 00  p . m .  enron alp team  - - - - - original message - - - - -  from : kenneth . parkhill @ enron . com [ mailto : kenneth . parkhill @ enron . com ]  sent : tuesday , january 23 , 2001 10 : 47 am  to : luigical @ rice . edu ; ghosei @ rice . edu ; ghoshr @ rice . edu ; iqbal @ rice . edu ;  pravas @ rice . edu ; cwomack @ rice . edu ; barrett @ rice . edu ; uecker @ rice . edu ;  loughrid @ rice . edu  cc : vince . j . kaminski @ enron . com  subject : hello team  we are very excited to be able to welcome your alp team to enron . we are  looking to working with you this semester . to kick things off , we would  like to invite you to cacciatore ' s this thursday for dinner ( 1 / 25 / 01 , 7 pm ) .  if you can ' t stand italian cuisine , or would like to try a different day or  time , please feel free to make a suggestion . we look forward to meeting  you .  ken  713 / 345 - 4638\n"
     ]
    }
   ],
   "source": [
    "realmsg = '''\n",
    "cacciatore ' s sounds fine with us . we will see you there at 7 : 00  p . m .  enron alp team  - - - - - original message - - - - -  from : kenneth . parkhill @ enron . com [ mailto : kenneth . parkhill @ enron . com ]  sent : tuesday , january 23 , 2001 10 : 47 am  to : luigical @ rice . edu ; ghosei @ rice . edu ; ghoshr @ rice . edu ; iqbal @ rice . edu ;  pravas @ rice . edu ; cwomack @ rice . edu ; barrett @ rice . edu ; uecker @ rice . edu ;  loughrid @ rice . edu  cc : vince . j . kaminski @ enron . com  subject : hello team  we are very excited to be able to welcome your alp team to enron . we are  looking to working with you this semester . to kick things off , we would  like to invite you to cacciatore ' s this thursday for dinner ( 1 / 25 / 01 , 7 pm ) .  if you can ' t stand italian cuisine , or would like to try a different day or  time , please feel free to make a suggestion . we look forward to meeting  you .  ken  713 / 345 - 4638'''\n",
    "print(realmsg)"
   ]
  },
  {
   "cell_type": "code",
   "execution_count": 45,
   "metadata": {},
   "outputs": [],
   "source": [
    "realvector = transformvc.transform([realmsg])"
   ]
  },
  {
   "cell_type": "code",
   "execution_count": 46,
   "metadata": {},
   "outputs": [
    {
     "data": {
      "text/plain": [
       "(1, 37229)"
      ]
     },
     "execution_count": 46,
     "metadata": {},
     "output_type": "execute_result"
    }
   ],
   "source": [
    "type(realvector)\n",
    "realvector.shape\n"
   ]
  },
  {
   "cell_type": "code",
   "execution_count": 47,
   "metadata": {},
   "outputs": [],
   "source": [
    "confidence = classifier.predict_proba(realvector)\n",
    "prediction = classifier.predict(realvector)\n"
   ]
  },
  {
   "cell_type": "code",
   "execution_count": 48,
   "metadata": {},
   "outputs": [
    {
     "name": "stdout",
     "output_type": "stream",
     "text": [
      "This e-mail is legit\n"
     ]
    }
   ],
   "source": [
    "if confidence[0,1] > 0.8:\n",
    "    print(\"This e-mail is Spam\")\n",
    "elif (confidence[0,1] > 0.5) and (confidence[0,1] < 0.8):\n",
    "    print(\"This e-mail seems to be Spam, check it\")\n",
    "else:\n",
    "    print(\"This e-mail is legit\")"
   ]
  },
  {
   "cell_type": "code",
   "execution_count": 49,
   "metadata": {},
   "outputs": [
    {
     "name": "stdout",
     "output_type": "stream",
     "text": [
      "[0]\n"
     ]
    }
   ],
   "source": [
    "print(prediction)"
   ]
  },
  {
   "cell_type": "markdown",
   "metadata": {},
   "source": [
    "# Logistic Regression"
   ]
  },
  {
   "cell_type": "code",
   "execution_count": 50,
   "metadata": {},
   "outputs": [],
   "source": [
    "#Converting collecction of text to matriz token count \n",
    "bow_messages = CountVectorizer(analyzer=remove_everything).fit_transform(df['text'])"
   ]
  },
  {
   "cell_type": "code",
   "execution_count": 51,
   "metadata": {},
   "outputs": [],
   "source": [
    "B_train, B_test,BC_train,BC_test = train_test_split(bow_messages, df['spam'], test_size=0.3, random_state=20)"
   ]
  },
  {
   "cell_type": "code",
   "execution_count": 52,
   "metadata": {},
   "outputs": [],
   "source": [
    "from sklearn.linear_model import LogisticRegression\n",
    "from sklearn.metrics import accuracy_score\n",
    "Spam_model = LogisticRegression(solver='liblinear', penalty='l1')\n",
    "Spam_model.fit(B_train, BC_train)\n",
    "prediction = Spam_model.predict(B_test)\n"
   ]
  },
  {
   "cell_type": "code",
   "execution_count": 53,
   "metadata": {},
   "outputs": [
    {
     "name": "stdout",
     "output_type": "stream",
     "text": [
      "Confusion Matrix: \n",
      " [[1283   19]\n",
      " [   9  408]]\n"
     ]
    }
   ],
   "source": [
    "print('Confusion Matrix: \\n',confusion_matrix(BC_test,prediction))"
   ]
  },
  {
   "cell_type": "code",
   "execution_count": 54,
   "metadata": {},
   "outputs": [
    {
     "data": {
      "text/plain": [
       "0.9837114601512508"
      ]
     },
     "execution_count": 54,
     "metadata": {},
     "output_type": "execute_result"
    }
   ],
   "source": [
    "accuracy_score(BC_test,prediction)"
   ]
  },
  {
   "cell_type": "markdown",
   "metadata": {},
   "source": [
    "# KNN"
   ]
  },
  {
   "cell_type": "code",
   "execution_count": 55,
   "metadata": {},
   "outputs": [],
   "source": [
    "mess_mat = CountVectorizer(analyzer=remove_everything).fit_transform(df['text'])"
   ]
  },
  {
   "cell_type": "code",
   "execution_count": 56,
   "metadata": {},
   "outputs": [],
   "source": [
    "A_train,A_test,a_train,a_test = train_test_split(mess_mat,df.spam,test_size=0.2,random_state=42)"
   ]
  },
  {
   "cell_type": "code",
   "execution_count": 57,
   "metadata": {},
   "outputs": [
    {
     "data": {
      "text/plain": [
       "KNeighborsClassifier()"
      ]
     },
     "execution_count": 57,
     "metadata": {},
     "output_type": "execute_result"
    }
   ],
   "source": [
    "from sklearn.neighbors import KNeighborsClassifier\n",
    "knn_classifier = KNeighborsClassifier()\n",
    "knn_classifier.fit(A_train,a_train)"
   ]
  },
  {
   "cell_type": "code",
   "execution_count": 58,
   "metadata": {},
   "outputs": [],
   "source": [
    "y_pred = knn_classifier.predict(A_test)"
   ]
  },
  {
   "cell_type": "code",
   "execution_count": 59,
   "metadata": {},
   "outputs": [
    {
     "name": "stdout",
     "output_type": "stream",
     "text": [
      "Confusion Matrix: \n",
      " [[847   9]\n",
      " [100 190]]\n"
     ]
    }
   ],
   "source": [
    "print('Confusion Matrix: \\n',confusion_matrix(a_test,y_pred))\n"
   ]
  },
  {
   "cell_type": "code",
   "execution_count": 60,
   "metadata": {},
   "outputs": [
    {
     "data": {
      "text/plain": [
       "0.6849912739965096"
      ]
     },
     "execution_count": 60,
     "metadata": {},
     "output_type": "execute_result"
    }
   ],
   "source": [
    "from sklearn.metrics import accuracy_score\n",
    "accuracy_score(y_test,y_pred)"
   ]
  },
  {
   "cell_type": "markdown",
   "metadata": {},
   "source": [
    "# SVM"
   ]
  },
  {
   "cell_type": "code",
   "execution_count": 61,
   "metadata": {},
   "outputs": [],
   "source": [
    "msg_mat = CountVectorizer(analyzer=remove_everything).fit_transform(df['text'])"
   ]
  },
  {
   "cell_type": "code",
   "execution_count": 62,
   "metadata": {},
   "outputs": [],
   "source": [
    "msg_train,msg_test,m_train,m_test = train_test_split(mess_mat,df.spam,test_size=0.2,random_state=42)"
   ]
  },
  {
   "cell_type": "code",
   "execution_count": 63,
   "metadata": {},
   "outputs": [
    {
     "data": {
      "text/plain": [
       "SVC(kernel='linear', random_state=0)"
      ]
     },
     "execution_count": 63,
     "metadata": {},
     "output_type": "execute_result"
    }
   ],
   "source": [
    "from sklearn.svm import SVC\n",
    "classifier = SVC(kernel = 'linear', random_state = 0)\n",
    "classifier.fit(msg_train, m_train)"
   ]
  },
  {
   "cell_type": "code",
   "execution_count": 64,
   "metadata": {},
   "outputs": [],
   "source": [
    "y_prediction = classifier.predict(msg_test)"
   ]
  },
  {
   "cell_type": "code",
   "execution_count": 65,
   "metadata": {},
   "outputs": [
    {
     "name": "stdout",
     "output_type": "stream",
     "text": [
      "Confusion Matrix: \n",
      " [[847   9]\n",
      " [ 17 273]]\n"
     ]
    }
   ],
   "source": [
    "print('Confusion Matrix: \\n',confusion_matrix(m_test,y_prediction))\n"
   ]
  },
  {
   "cell_type": "code",
   "execution_count": 66,
   "metadata": {},
   "outputs": [
    {
     "data": {
      "text/plain": [
       "0.9773123909249564"
      ]
     },
     "execution_count": 66,
     "metadata": {},
     "output_type": "execute_result"
    }
   ],
   "source": [
    "accuracy_score(m_test,y_prediction)"
   ]
  }
 ],
 "metadata": {
  "kernelspec": {
   "display_name": "Python 3",
   "language": "python",
   "name": "python3"
  },
  "language_info": {
   "codemirror_mode": {
    "name": "ipython",
    "version": 3
   },
   "file_extension": ".py",
   "mimetype": "text/x-python",
   "name": "python",
   "nbconvert_exporter": "python",
   "pygments_lexer": "ipython3",
   "version": "3.7.4"
  }
 },
 "nbformat": 4,
 "nbformat_minor": 4
}
